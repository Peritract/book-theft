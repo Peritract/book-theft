{
 "cells": [
  {
   "cell_type": "markdown",
   "metadata": {},
   "source": [
    "# Book Analysis\n",
    "\n",
    "This notebook explores a dataset of book details scraped from [Tor](https://publishing.tor.com/).\n",
    "\n",
    "## Imports"
   ]
  },
  {
   "cell_type": "code",
   "execution_count": 1,
   "metadata": {},
   "outputs": [],
   "source": [
    "from os import environ\n",
    "\n",
    "from dotenv import load_dotenv\n",
    "import pandas as pd\n",
    "import altair as alt"
   ]
  },
  {
   "cell_type": "markdown",
   "metadata": {},
   "source": [
    "## Setup"
   ]
  },
  {
   "cell_type": "code",
   "execution_count": 2,
   "metadata": {},
   "outputs": [],
   "source": [
    "load_dotenv()\n",
    "\n",
    "pd.set_option(\"max_colwidth\", 150)  # Display more text"
   ]
  },
  {
   "cell_type": "markdown",
   "metadata": {},
   "source": [
    "## Data sourcing"
   ]
  },
  {
   "cell_type": "code",
   "execution_count": 26,
   "metadata": {},
   "outputs": [],
   "source": [
    "def string_to_list(string: str) -> list[str]:\n",
    "    \"\"\"Returns a list from a list stored as a string.\"\"\"\n",
    "    return string[1:-1].split(\", \")"
   ]
  },
  {
   "cell_type": "code",
   "execution_count": 27,
   "metadata": {},
   "outputs": [],
   "source": [
    "books = pd.read_csv(environ[\"FINAL_BOOK_FILEPATH\"], parse_dates=[\"publication_date\"],\n",
    "                    converters={\"formats\": string_to_list, \"contributors\": string_to_list})"
   ]
  },
  {
   "cell_type": "code",
   "execution_count": 28,
   "metadata": {},
   "outputs": [
    {
     "data": {
      "text/html": [
       "<div>\n",
       "<style scoped>\n",
       "    .dataframe tbody tr th:only-of-type {\n",
       "        vertical-align: middle;\n",
       "    }\n",
       "\n",
       "    .dataframe tbody tr th {\n",
       "        vertical-align: top;\n",
       "    }\n",
       "\n",
       "    .dataframe thead th {\n",
       "        text-align: right;\n",
       "    }\n",
       "</style>\n",
       "<table border=\"1\" class=\"dataframe\">\n",
       "  <thead>\n",
       "    <tr style=\"text-align: right;\">\n",
       "      <th></th>\n",
       "      <th>title</th>\n",
       "      <th>description</th>\n",
       "      <th>series</th>\n",
       "      <th>series_number</th>\n",
       "      <th>pages</th>\n",
       "      <th>publication_date</th>\n",
       "      <th>formats</th>\n",
       "      <th>contributors</th>\n",
       "    </tr>\n",
       "  </thead>\n",
       "  <tbody>\n",
       "    <tr>\n",
       "      <th>119</th>\n",
       "      <td>The Heirs of Locksley</td>\n",
       "      <td>Carrie Vaughn follows up The Ghosts of Sherwood with the charming, fast-paced The Heirs of Locksley, continuing the story of Robin Hood's childre...</td>\n",
       "      <td>NaN</td>\n",
       "      <td>NaN</td>\n",
       "      <td>128.0</td>\n",
       "      <td>2020-08-04</td>\n",
       "      <td>['e-Book', 'Trade Paperback']</td>\n",
       "      <td>['Carrie Vaughn']</td>\n",
       "    </tr>\n",
       "    <tr>\n",
       "      <th>14</th>\n",
       "      <td>Anthropocene Rag</td>\n",
       "      <td>Anthropocene Rag is \"a rare distillation of nanotech, apocalypse, and mythic Americana into a heady psychedelic brew.\" — Nebula and World Fantasy...</td>\n",
       "      <td>NaN</td>\n",
       "      <td>NaN</td>\n",
       "      <td>256.0</td>\n",
       "      <td>2020-03-31</td>\n",
       "      <td>['e-Book', 'Trade Paperback']</td>\n",
       "      <td>['Alex Irvine']</td>\n",
       "    </tr>\n",
       "    <tr>\n",
       "      <th>11</th>\n",
       "      <td>American Hippo</td>\n",
       "      <td>In 2017 Sarah Gailey made her debut with River of Teeth and Taste of Marrow , two action-packed novellas that introduced readers to an alternate ...</td>\n",
       "      <td>River of Teeth</td>\n",
       "      <td>0.0</td>\n",
       "      <td>256.0</td>\n",
       "      <td>2018-05-22</td>\n",
       "      <td>['e-Book', 'Trade Paperback']</td>\n",
       "      <td>['Sarah Gailey']</td>\n",
       "    </tr>\n",
       "  </tbody>\n",
       "</table>\n",
       "</div>"
      ],
      "text/plain": [
       "                     title  \\\n",
       "119  The Heirs of Locksley   \n",
       "14        Anthropocene Rag   \n",
       "11          American Hippo   \n",
       "\n",
       "                                                                                                                                               description  \\\n",
       "119   Carrie Vaughn follows up The Ghosts of Sherwood with the charming, fast-paced The Heirs of Locksley, continuing the story of Robin Hood's childre...   \n",
       "14    Anthropocene Rag is \"a rare distillation of nanotech, apocalypse, and mythic Americana into a heady psychedelic brew.\" — Nebula and World Fantasy...   \n",
       "11    In 2017 Sarah Gailey made her debut with River of Teeth and Taste of Marrow , two action-packed novellas that introduced readers to an alternate ...   \n",
       "\n",
       "             series  series_number  pages publication_date  \\\n",
       "119             NaN            NaN  128.0       2020-08-04   \n",
       "14              NaN            NaN  256.0       2020-03-31   \n",
       "11   River of Teeth            0.0  256.0       2018-05-22   \n",
       "\n",
       "                           formats       contributors  \n",
       "119  ['e-Book', 'Trade Paperback']  ['Carrie Vaughn']  \n",
       "14   ['e-Book', 'Trade Paperback']    ['Alex Irvine']  \n",
       "11   ['e-Book', 'Trade Paperback']   ['Sarah Gailey']  "
      ]
     },
     "execution_count": 28,
     "metadata": {},
     "output_type": "execute_result"
    }
   ],
   "source": [
    "books.sample(3)"
   ]
  },
  {
   "cell_type": "markdown",
   "metadata": {},
   "source": [
    "## Data exploration\n",
    "\n",
    "**How many books are missing descriptions or page numbers? Can you work out why?**"
   ]
  },
  {
   "cell_type": "code",
   "execution_count": null,
   "metadata": {},
   "outputs": [],
   "source": []
  },
  {
   "cell_type": "markdown",
   "metadata": {},
   "source": [
    "**How many books are not part of a series**?"
   ]
  },
  {
   "cell_type": "code",
   "execution_count": null,
   "metadata": {},
   "outputs": [],
   "source": []
  },
  {
   "cell_type": "markdown",
   "metadata": {},
   "source": [
    "**What is the name of the longest series?**"
   ]
  },
  {
   "cell_type": "code",
   "execution_count": null,
   "metadata": {},
   "outputs": [],
   "source": []
  },
  {
   "cell_type": "markdown",
   "metadata": {},
   "source": [
    "**How many books were published in each month of the year (bar chart)?**"
   ]
  },
  {
   "cell_type": "code",
   "execution_count": null,
   "metadata": {},
   "outputs": [],
   "source": []
  },
  {
   "cell_type": "markdown",
   "metadata": {},
   "source": [
    "**What's the average number of pages?**"
   ]
  },
  {
   "cell_type": "code",
   "execution_count": null,
   "metadata": {},
   "outputs": [],
   "source": []
  },
  {
   "cell_type": "markdown",
   "metadata": {},
   "source": [
    "**What proportion of books have more than one author (pie chart)?**"
   ]
  },
  {
   "cell_type": "code",
   "execution_count": null,
   "metadata": {},
   "outputs": [],
   "source": []
  },
  {
   "cell_type": "markdown",
   "metadata": {},
   "source": [
    "**How many books were published each year (line chart)?**"
   ]
  },
  {
   "cell_type": "code",
   "execution_count": null,
   "metadata": {},
   "outputs": [],
   "source": []
  }
 ],
 "metadata": {
  "kernelspec": {
   "display_name": "venv",
   "language": "python",
   "name": "python3"
  },
  "language_info": {
   "codemirror_mode": {
    "name": "ipython",
    "version": 3
   },
   "file_extension": ".py",
   "mimetype": "text/x-python",
   "name": "python",
   "nbconvert_exporter": "python",
   "pygments_lexer": "ipython3",
   "version": "3.11.6"
  }
 },
 "nbformat": 4,
 "nbformat_minor": 2
}
