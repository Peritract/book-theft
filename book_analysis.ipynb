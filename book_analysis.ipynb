{
 "cells": [
  {
   "cell_type": "markdown",
   "metadata": {},
   "source": [
    "# Book Analysis\n",
    "\n",
    "This notebook explores a dataset of book details scraped from [Tor](https://publishing.tor.com/).\n",
    "\n",
    "## Imports"
   ]
  },
  {
   "cell_type": "code",
   "execution_count": 1,
   "metadata": {},
   "outputs": [],
   "source": [
    "from os import environ\n",
    "\n",
    "from dotenv import load_dotenv\n",
    "import pandas as pd\n",
    "import altair as alt\n",
    "from nltk.tokenize import word_tokenize\n",
    "from nltk.corpus import stopwords  # Lists of boring words\n",
    "from pandas.core.common import flatten"
   ]
  },
  {
   "cell_type": "markdown",
   "metadata": {},
   "source": [
    "## Setup"
   ]
  },
  {
   "cell_type": "code",
   "execution_count": 2,
   "metadata": {},
   "outputs": [],
   "source": [
    "load_dotenv()\n",
    "\n",
    "pd.set_option(\"max_colwidth\", 150)  # Display more text"
   ]
  },
  {
   "cell_type": "markdown",
   "metadata": {},
   "source": [
    "## Data sourcing"
   ]
  },
  {
   "cell_type": "code",
   "execution_count": 3,
   "metadata": {},
   "outputs": [],
   "source": [
    "def string_to_list(string: str) -> list[str]:\n",
    "    \"\"\"Returns a list from a list stored as a string.\"\"\"\n",
    "    return string[2:-2].split(\"', '\")"
   ]
  },
  {
   "cell_type": "code",
   "execution_count": 4,
   "metadata": {},
   "outputs": [],
   "source": [
    "books = pd.read_csv(environ[\"FINAL_BOOK_FILEPATH\"], parse_dates=[\"publication_date\"],\n",
    "                    converters={\"formats\": string_to_list, \"contributors\": string_to_list})"
   ]
  },
  {
   "cell_type": "code",
   "execution_count": 5,
   "metadata": {},
   "outputs": [
    {
     "data": {
      "text/html": [
       "<div>\n",
       "<style scoped>\n",
       "    .dataframe tbody tr th:only-of-type {\n",
       "        vertical-align: middle;\n",
       "    }\n",
       "\n",
       "    .dataframe tbody tr th {\n",
       "        vertical-align: top;\n",
       "    }\n",
       "\n",
       "    .dataframe thead th {\n",
       "        text-align: right;\n",
       "    }\n",
       "</style>\n",
       "<table border=\"1\" class=\"dataframe\">\n",
       "  <thead>\n",
       "    <tr style=\"text-align: right;\">\n",
       "      <th></th>\n",
       "      <th>title</th>\n",
       "      <th>description</th>\n",
       "      <th>series</th>\n",
       "      <th>series_number</th>\n",
       "      <th>pages</th>\n",
       "      <th>publication_date</th>\n",
       "      <th>formats</th>\n",
       "      <th>contributors</th>\n",
       "    </tr>\n",
       "  </thead>\n",
       "  <tbody>\n",
       "    <tr>\n",
       "      <th>289</th>\n",
       "      <td>The Truth of the Aleke</td>\n",
       "      <td>Moses Ose Utomi returns to his Forever Desert series with The Truth of the Aleke , continuing his epic fable about truth, falsehood, and the shac...</td>\n",
       "      <td>The Forever Desert</td>\n",
       "      <td>2.0</td>\n",
       "      <td>112.0</td>\n",
       "      <td>2024-03-05</td>\n",
       "      <td>[Hardcover, e-Book]</td>\n",
       "      <td>[Moses Ose Utomi]</td>\n",
       "    </tr>\n",
       "    <tr>\n",
       "      <th>33</th>\n",
       "      <td>The Book of Ile-Rien</td>\n",
       "      <td>NaN</td>\n",
       "      <td>NaN</td>\n",
       "      <td>NaN</td>\n",
       "      <td>990.0</td>\n",
       "      <td>2024-02-27</td>\n",
       "      <td>[e-Book, Trade Paperback]</td>\n",
       "      <td>[Martha Wells]</td>\n",
       "    </tr>\n",
       "    <tr>\n",
       "      <th>48</th>\n",
       "      <td>Cold Counsel</td>\n",
       "      <td>In Chris Sharp's new epic fantasy Cold Counsel , Slud of the Blood Claw Clan, Bringer of Troubles, was born at the heart of the worst storm the m...</td>\n",
       "      <td>NaN</td>\n",
       "      <td>NaN</td>\n",
       "      <td>302.0</td>\n",
       "      <td>2017-02-21</td>\n",
       "      <td>[e-Book]</td>\n",
       "      <td>[Chris Sharp]</td>\n",
       "    </tr>\n",
       "  </tbody>\n",
       "</table>\n",
       "</div>"
      ],
      "text/plain": [
       "                      title  \\\n",
       "289  The Truth of the Aleke   \n",
       "33     The Book of Ile-Rien   \n",
       "48             Cold Counsel   \n",
       "\n",
       "                                                                                                                                               description  \\\n",
       "289   Moses Ose Utomi returns to his Forever Desert series with The Truth of the Aleke , continuing his epic fable about truth, falsehood, and the shac...   \n",
       "33                                                                                                                                                     NaN   \n",
       "48    In Chris Sharp's new epic fantasy Cold Counsel , Slud of the Blood Claw Clan, Bringer of Troubles, was born at the heart of the worst storm the m...   \n",
       "\n",
       "                 series  series_number  pages publication_date  \\\n",
       "289  The Forever Desert            2.0  112.0       2024-03-05   \n",
       "33                  NaN            NaN  990.0       2024-02-27   \n",
       "48                  NaN            NaN  302.0       2017-02-21   \n",
       "\n",
       "                       formats       contributors  \n",
       "289        [Hardcover, e-Book]  [Moses Ose Utomi]  \n",
       "33   [e-Book, Trade Paperback]     [Martha Wells]  \n",
       "48                    [e-Book]      [Chris Sharp]  "
      ]
     },
     "execution_count": 5,
     "metadata": {},
     "output_type": "execute_result"
    }
   ],
   "source": [
    "books.sample(3)"
   ]
  },
  {
   "cell_type": "markdown",
   "metadata": {},
   "source": [
    "## Data exploration\n",
    "\n",
    "**How many books are missing descriptions or page numbers? Can you work out why?**"
   ]
  },
  {
   "cell_type": "code",
   "execution_count": 6,
   "metadata": {},
   "outputs": [
    {
     "data": {
      "text/html": [
       "<div>\n",
       "<style scoped>\n",
       "    .dataframe tbody tr th:only-of-type {\n",
       "        vertical-align: middle;\n",
       "    }\n",
       "\n",
       "    .dataframe tbody tr th {\n",
       "        vertical-align: top;\n",
       "    }\n",
       "\n",
       "    .dataframe thead th {\n",
       "        text-align: right;\n",
       "    }\n",
       "</style>\n",
       "<table border=\"1\" class=\"dataframe\">\n",
       "  <thead>\n",
       "    <tr style=\"text-align: right;\">\n",
       "      <th></th>\n",
       "      <th>title</th>\n",
       "      <th>description</th>\n",
       "      <th>series</th>\n",
       "      <th>series_number</th>\n",
       "      <th>pages</th>\n",
       "      <th>publication_date</th>\n",
       "      <th>formats</th>\n",
       "      <th>contributors</th>\n",
       "    </tr>\n",
       "  </thead>\n",
       "  <tbody>\n",
       "    <tr>\n",
       "      <th>33</th>\n",
       "      <td>The Book of Ile-Rien</td>\n",
       "      <td>NaN</td>\n",
       "      <td>NaN</td>\n",
       "      <td>NaN</td>\n",
       "      <td>990.0</td>\n",
       "      <td>2024-02-27</td>\n",
       "      <td>[e-Book, Trade Paperback]</td>\n",
       "      <td>[Martha Wells]</td>\n",
       "    </tr>\n",
       "    <tr>\n",
       "      <th>41</th>\n",
       "      <td>The Butcher of the Forest</td>\n",
       "      <td>NaN</td>\n",
       "      <td>NaN</td>\n",
       "      <td>NaN</td>\n",
       "      <td>160.0</td>\n",
       "      <td>2024-02-27</td>\n",
       "      <td>[e-Book, Trade Paperback]</td>\n",
       "      <td>[]</td>\n",
       "    </tr>\n",
       "    <tr>\n",
       "      <th>174</th>\n",
       "      <td>The Murderbot Diaries</td>\n",
       "      <td>“We are all a little bit Murderbot.” – NPR on Martha Wells's The Murderbot Diaries...</td>\n",
       "      <td>The Murderbot Diaries</td>\n",
       "      <td>0.0</td>\n",
       "      <td>NaN</td>\n",
       "      <td>2020-10-27</td>\n",
       "      <td>[Hardcover]</td>\n",
       "      <td>[Martha Wells]</td>\n",
       "    </tr>\n",
       "    <tr>\n",
       "      <th>199</th>\n",
       "      <td>The Practice, the Horizon, and the Chain</td>\n",
       "      <td>NaN</td>\n",
       "      <td>NaN</td>\n",
       "      <td>NaN</td>\n",
       "      <td>112.0</td>\n",
       "      <td>2024-03-26</td>\n",
       "      <td>[e-Book, Trade Paperback]</td>\n",
       "      <td>[]</td>\n",
       "    </tr>\n",
       "    <tr>\n",
       "      <th>225</th>\n",
       "      <td>Seanan McGuire's Wayward Children, Volumes 1-3</td>\n",
       "      <td>Winner: 2022 Hugo Award for Best Series For the first time experience the first three hardcover volumes of Seanan McGuire's Hugo and Nebula Award...</td>\n",
       "      <td>Wayward Children</td>\n",
       "      <td>0.0</td>\n",
       "      <td>NaN</td>\n",
       "      <td>2020-11-17</td>\n",
       "      <td>[Hardcover]</td>\n",
       "      <td>[Seanan McGuire]</td>\n",
       "    </tr>\n",
       "  </tbody>\n",
       "</table>\n",
       "</div>"
      ],
      "text/plain": [
       "                                              title  \\\n",
       "33                             The Book of Ile-Rien   \n",
       "41                        The Butcher of the Forest   \n",
       "174                           The Murderbot Diaries   \n",
       "199        The Practice, the Horizon, and the Chain   \n",
       "225  Seanan McGuire's Wayward Children, Volumes 1-3   \n",
       "\n",
       "                                                                                                                                               description  \\\n",
       "33                                                                                                                                                     NaN   \n",
       "41                                                                                                                                                     NaN   \n",
       "174                                                                 “We are all a little bit Murderbot.” – NPR on Martha Wells's The Murderbot Diaries...    \n",
       "199                                                                                                                                                    NaN   \n",
       "225   Winner: 2022 Hugo Award for Best Series For the first time experience the first three hardcover volumes of Seanan McGuire's Hugo and Nebula Award...   \n",
       "\n",
       "                    series  series_number  pages publication_date  \\\n",
       "33                     NaN            NaN  990.0       2024-02-27   \n",
       "41                     NaN            NaN  160.0       2024-02-27   \n",
       "174  The Murderbot Diaries            0.0    NaN       2020-10-27   \n",
       "199                    NaN            NaN  112.0       2024-03-26   \n",
       "225       Wayward Children            0.0    NaN       2020-11-17   \n",
       "\n",
       "                       formats      contributors  \n",
       "33   [e-Book, Trade Paperback]    [Martha Wells]  \n",
       "41   [e-Book, Trade Paperback]                []  \n",
       "174                [Hardcover]    [Martha Wells]  \n",
       "199  [e-Book, Trade Paperback]                []  \n",
       "225                [Hardcover]  [Seanan McGuire]  "
      ]
     },
     "execution_count": 6,
     "metadata": {},
     "output_type": "execute_result"
    }
   ],
   "source": [
    "books[(books[\"description\"].isna()) | (books[\"pages\"].isna())]"
   ]
  },
  {
   "cell_type": "markdown",
   "metadata": {},
   "source": [
    "**How many books are not part of a series**?"
   ]
  },
  {
   "cell_type": "code",
   "execution_count": 7,
   "metadata": {},
   "outputs": [
    {
     "data": {
      "text/plain": [
       "174"
      ]
     },
     "execution_count": 7,
     "metadata": {},
     "output_type": "execute_result"
    }
   ],
   "source": [
    "books[\"series\"].isna().sum()"
   ]
  },
  {
   "cell_type": "markdown",
   "metadata": {},
   "source": [
    "**What is the name of the longest series?**"
   ]
  },
  {
   "cell_type": "code",
   "execution_count": 8,
   "metadata": {},
   "outputs": [
    {
     "data": {
      "text/plain": [
       "'The Locked Tomb Trilogy The Locked Tomb Series'"
      ]
     },
     "execution_count": 8,
     "metadata": {},
     "output_type": "execute_result"
    }
   ],
   "source": [
    "series = books.loc[books[\"series\"].str.len().idxmax(), \"series\"]\n",
    "series"
   ]
  },
  {
   "cell_type": "code",
   "execution_count": 9,
   "metadata": {},
   "outputs": [
    {
     "data": {
      "text/plain": [
       "series\n",
       "Laundry Files    13.0\n",
       "Name: series_number, dtype: float64"
      ]
     },
     "execution_count": 9,
     "metadata": {},
     "output_type": "execute_result"
    }
   ],
   "source": [
    "books.groupby(\"series\")[\"series_number\"].max().sort_values(ascending=False).head(1)"
   ]
  },
  {
   "cell_type": "code",
   "execution_count": 10,
   "metadata": {},
   "outputs": [
    {
     "data": {
      "text/plain": [
       "series\n",
       "A Sin du Jour Affair     2966.0\n",
       "Wayward Children         2144.0\n",
       "Laundry Files            1600.0\n",
       "Witches of Lychford      1464.0\n",
       "The Murderbot Diaries    1456.0\n",
       "Name: pages, dtype: float64"
      ]
     },
     "execution_count": 10,
     "metadata": {},
     "output_type": "execute_result"
    }
   ],
   "source": [
    "books.groupby(\"series\")[\"pages\"].sum().sort_values(ascending=False).head(5)"
   ]
  },
  {
   "cell_type": "markdown",
   "metadata": {},
   "source": [
    "**How many books were published in each month of the year (bar chart)?**"
   ]
  },
  {
   "cell_type": "code",
   "execution_count": 11,
   "metadata": {},
   "outputs": [
    {
     "data": {
      "text/html": [
       "\n",
       "<style>\n",
       "  #altair-viz-e60e203bb6c94bef84903e40c8fa7f86.vega-embed {\n",
       "    width: 100%;\n",
       "    display: flex;\n",
       "  }\n",
       "\n",
       "  #altair-viz-e60e203bb6c94bef84903e40c8fa7f86.vega-embed details,\n",
       "  #altair-viz-e60e203bb6c94bef84903e40c8fa7f86.vega-embed details summary {\n",
       "    position: relative;\n",
       "  }\n",
       "</style>\n",
       "<div id=\"altair-viz-e60e203bb6c94bef84903e40c8fa7f86\"></div>\n",
       "<script type=\"text/javascript\">\n",
       "  var VEGA_DEBUG = (typeof VEGA_DEBUG == \"undefined\") ? {} : VEGA_DEBUG;\n",
       "  (function(spec, embedOpt){\n",
       "    let outputDiv = document.currentScript.previousElementSibling;\n",
       "    if (outputDiv.id !== \"altair-viz-e60e203bb6c94bef84903e40c8fa7f86\") {\n",
       "      outputDiv = document.getElementById(\"altair-viz-e60e203bb6c94bef84903e40c8fa7f86\");\n",
       "    }\n",
       "    const paths = {\n",
       "      \"vega\": \"https://cdn.jsdelivr.net/npm/vega@5?noext\",\n",
       "      \"vega-lib\": \"https://cdn.jsdelivr.net/npm/vega-lib?noext\",\n",
       "      \"vega-lite\": \"https://cdn.jsdelivr.net/npm/vega-lite@5.16.3?noext\",\n",
       "      \"vega-embed\": \"https://cdn.jsdelivr.net/npm/vega-embed@6?noext\",\n",
       "    };\n",
       "\n",
       "    function maybeLoadScript(lib, version) {\n",
       "      var key = `${lib.replace(\"-\", \"\")}_version`;\n",
       "      return (VEGA_DEBUG[key] == version) ?\n",
       "        Promise.resolve(paths[lib]) :\n",
       "        new Promise(function(resolve, reject) {\n",
       "          var s = document.createElement('script');\n",
       "          document.getElementsByTagName(\"head\")[0].appendChild(s);\n",
       "          s.async = true;\n",
       "          s.onload = () => {\n",
       "            VEGA_DEBUG[key] = version;\n",
       "            return resolve(paths[lib]);\n",
       "          };\n",
       "          s.onerror = () => reject(`Error loading script: ${paths[lib]}`);\n",
       "          s.src = paths[lib];\n",
       "        });\n",
       "    }\n",
       "\n",
       "    function showError(err) {\n",
       "      outputDiv.innerHTML = `<div class=\"error\" style=\"color:red;\">${err}</div>`;\n",
       "      throw err;\n",
       "    }\n",
       "\n",
       "    function displayChart(vegaEmbed) {\n",
       "      vegaEmbed(outputDiv, spec, embedOpt)\n",
       "        .catch(err => showError(`Javascript Error: ${err.message}<br>This usually means there's a typo in your chart specification. See the javascript console for the full traceback.`));\n",
       "    }\n",
       "\n",
       "    if(typeof define === \"function\" && define.amd) {\n",
       "      requirejs.config({paths});\n",
       "      require([\"vega-embed\"], displayChart, err => showError(`Error loading script: ${err.message}`));\n",
       "    } else {\n",
       "      maybeLoadScript(\"vega\", \"5\")\n",
       "        .then(() => maybeLoadScript(\"vega-lite\", \"5.16.3\"))\n",
       "        .then(() => maybeLoadScript(\"vega-embed\", \"6\"))\n",
       "        .catch(showError)\n",
       "        .then(() => displayChart(vegaEmbed));\n",
       "    }\n",
       "  })({\"config\": {\"view\": {\"continuousWidth\": 300, \"continuousHeight\": 300}}, \"data\": {\"name\": \"data-b533ec8fa120258f468cc49d0f96e868\"}, \"mark\": {\"type\": \"bar\"}, \"encoding\": {\"color\": {\"field\": \"month\", \"type\": \"quantitative\"}, \"x\": {\"field\": \"month\", \"type\": \"quantitative\"}, \"y\": {\"field\": \"title\", \"type\": \"quantitative\"}}, \"$schema\": \"https://vega.github.io/schema/vega-lite/v5.16.3.json\", \"datasets\": {\"data-b533ec8fa120258f468cc49d0f96e868\": [{\"month\": 1, \"title\": 33}, {\"month\": 2, \"title\": 29}, {\"month\": 3, \"title\": 37}, {\"month\": 4, \"title\": 26}, {\"month\": 5, \"title\": 30}, {\"month\": 6, \"title\": 20}, {\"month\": 7, \"title\": 23}, {\"month\": 8, \"title\": 26}, {\"month\": 9, \"title\": 32}, {\"month\": 10, \"title\": 35}, {\"month\": 11, \"title\": 31}, {\"month\": 12, \"title\": 1}]}}, {\"mode\": \"vega-lite\"});\n",
       "</script>"
      ],
      "text/plain": [
       "alt.Chart(...)"
      ]
     },
     "execution_count": 11,
     "metadata": {},
     "output_type": "execute_result"
    }
   ],
   "source": [
    "# Get books per month of year\n",
    "books[\"month\"] = books[\"publication_date\"].dt.month\n",
    "\n",
    "month_counts = books.groupby(\"month\").count()[\"title\"].reset_index()\n",
    "\n",
    "month_counts\n",
    "\n",
    "# Chart it\n",
    "\n",
    "alt.Chart(month_counts).mark_bar().encode(x=\"month\", y=\"title\", color=\"month\")"
   ]
  },
  {
   "cell_type": "markdown",
   "metadata": {},
   "source": [
    "**What's the average number of pages?**"
   ]
  },
  {
   "cell_type": "code",
   "execution_count": 12,
   "metadata": {},
   "outputs": [
    {
     "data": {
      "text/plain": [
       "260.69"
      ]
     },
     "execution_count": 12,
     "metadata": {},
     "output_type": "execute_result"
    }
   ],
   "source": [
    "books[\"pages\"].mean().round(2)"
   ]
  },
  {
   "cell_type": "markdown",
   "metadata": {},
   "source": [
    "**What proportion of books have more than one author (pie chart)?**"
   ]
  },
  {
   "cell_type": "code",
   "execution_count": 13,
   "metadata": {},
   "outputs": [
    {
     "data": {
      "text/html": [
       "\n",
       "<style>\n",
       "  #altair-viz-2928bb9a575f4488a470cd98b6b7d136.vega-embed {\n",
       "    width: 100%;\n",
       "    display: flex;\n",
       "  }\n",
       "\n",
       "  #altair-viz-2928bb9a575f4488a470cd98b6b7d136.vega-embed details,\n",
       "  #altair-viz-2928bb9a575f4488a470cd98b6b7d136.vega-embed details summary {\n",
       "    position: relative;\n",
       "  }\n",
       "</style>\n",
       "<div id=\"altair-viz-2928bb9a575f4488a470cd98b6b7d136\"></div>\n",
       "<script type=\"text/javascript\">\n",
       "  var VEGA_DEBUG = (typeof VEGA_DEBUG == \"undefined\") ? {} : VEGA_DEBUG;\n",
       "  (function(spec, embedOpt){\n",
       "    let outputDiv = document.currentScript.previousElementSibling;\n",
       "    if (outputDiv.id !== \"altair-viz-2928bb9a575f4488a470cd98b6b7d136\") {\n",
       "      outputDiv = document.getElementById(\"altair-viz-2928bb9a575f4488a470cd98b6b7d136\");\n",
       "    }\n",
       "    const paths = {\n",
       "      \"vega\": \"https://cdn.jsdelivr.net/npm/vega@5?noext\",\n",
       "      \"vega-lib\": \"https://cdn.jsdelivr.net/npm/vega-lib?noext\",\n",
       "      \"vega-lite\": \"https://cdn.jsdelivr.net/npm/vega-lite@5.16.3?noext\",\n",
       "      \"vega-embed\": \"https://cdn.jsdelivr.net/npm/vega-embed@6?noext\",\n",
       "    };\n",
       "\n",
       "    function maybeLoadScript(lib, version) {\n",
       "      var key = `${lib.replace(\"-\", \"\")}_version`;\n",
       "      return (VEGA_DEBUG[key] == version) ?\n",
       "        Promise.resolve(paths[lib]) :\n",
       "        new Promise(function(resolve, reject) {\n",
       "          var s = document.createElement('script');\n",
       "          document.getElementsByTagName(\"head\")[0].appendChild(s);\n",
       "          s.async = true;\n",
       "          s.onload = () => {\n",
       "            VEGA_DEBUG[key] = version;\n",
       "            return resolve(paths[lib]);\n",
       "          };\n",
       "          s.onerror = () => reject(`Error loading script: ${paths[lib]}`);\n",
       "          s.src = paths[lib];\n",
       "        });\n",
       "    }\n",
       "\n",
       "    function showError(err) {\n",
       "      outputDiv.innerHTML = `<div class=\"error\" style=\"color:red;\">${err}</div>`;\n",
       "      throw err;\n",
       "    }\n",
       "\n",
       "    function displayChart(vegaEmbed) {\n",
       "      vegaEmbed(outputDiv, spec, embedOpt)\n",
       "        .catch(err => showError(`Javascript Error: ${err.message}<br>This usually means there's a typo in your chart specification. See the javascript console for the full traceback.`));\n",
       "    }\n",
       "\n",
       "    if(typeof define === \"function\" && define.amd) {\n",
       "      requirejs.config({paths});\n",
       "      require([\"vega-embed\"], displayChart, err => showError(`Error loading script: ${err.message}`));\n",
       "    } else {\n",
       "      maybeLoadScript(\"vega\", \"5\")\n",
       "        .then(() => maybeLoadScript(\"vega-lite\", \"5.16.3\"))\n",
       "        .then(() => maybeLoadScript(\"vega-embed\", \"6\"))\n",
       "        .catch(showError)\n",
       "        .then(() => displayChart(vegaEmbed));\n",
       "    }\n",
       "  })({\"config\": {\"view\": {\"continuousWidth\": 300, \"continuousHeight\": 300}}, \"data\": {\"name\": \"data-c14d6d9df93c861904d25c9c123c28a5\"}, \"mark\": {\"type\": \"arc\"}, \"encoding\": {\"color\": {\"field\": \"multiple_contributors\", \"type\": \"nominal\"}, \"theta\": {\"field\": \"count\", \"type\": \"quantitative\"}}, \"$schema\": \"https://vega.github.io/schema/vega-lite/v5.16.3.json\", \"datasets\": {\"data-c14d6d9df93c861904d25c9c123c28a5\": [{\"multiple_contributors\": false, \"count\": 297}, {\"multiple_contributors\": true, \"count\": 26}]}}, {\"mode\": \"vega-lite\"});\n",
       "</script>"
      ],
      "text/plain": [
       "alt.Chart(...)"
      ]
     },
     "execution_count": 13,
     "metadata": {},
     "output_type": "execute_result"
    }
   ],
   "source": [
    "# Find multiple contributors\n",
    "\n",
    "books[\"multiple_contributors\"] = books[\"contributors\"].apply(lambda x: len(x) > 1)\n",
    "\n",
    "# Find the counts\n",
    "\n",
    "contributor_counts = books[\"multiple_contributors\"].value_counts().reset_index()\n",
    "# Make the chart\n",
    "\n",
    "alt.Chart(contributor_counts).mark_arc().encode(theta=\"count\", color=\"multiple_contributors\")"
   ]
  },
  {
   "cell_type": "markdown",
   "metadata": {},
   "source": [
    "**How many books were published each year (line chart)?**"
   ]
  },
  {
   "cell_type": "code",
   "execution_count": 14,
   "metadata": {},
   "outputs": [],
   "source": [
    "year_counts = books.set_index(\"publication_date\").resample('Y')[\"title\"].count().reset_index()\n",
    "year_counts[\"year\"] = year_counts[\"publication_date\"].dt.year\n",
    "\n",
    "chart = alt.Chart(year_counts).mark_line(color=\"purple\").encode(x=\"year\", y=\"title\")"
   ]
  },
  {
   "cell_type": "code",
   "execution_count": 15,
   "metadata": {},
   "outputs": [],
   "source": [
    "chart.save(\"purple_line.png\")"
   ]
  },
  {
   "cell_type": "markdown",
   "metadata": {},
   "source": [
    "## Data cleaning"
   ]
  },
  {
   "cell_type": "code",
   "execution_count": 16,
   "metadata": {},
   "outputs": [],
   "source": [
    "books = books.dropna(subset=[\"description\"])\n",
    "\n",
    "unwanted_phrases = [\"([Tt]he)? [Nn]ew [Yy]ork [Tt]imes\",\n",
    "                    \"([tT]he )? \\w+ [aA]wards?\",\n",
    "                    \"\\w+ [Nn]ominee\",\n",
    "                    \"At the Publisher's request, this title is being sold without Digital Rights Management Software (DRM) applied.\"]\n",
    "\n",
    "for p in unwanted_phrases:\n",
    "    books[\"description\"] = books[\"description\"].str.replace(p, \" \", regex=True)"
   ]
  },
  {
   "cell_type": "markdown",
   "metadata": {},
   "source": [
    "## Text processing"
   ]
  },
  {
   "cell_type": "code",
   "execution_count": 17,
   "metadata": {},
   "outputs": [],
   "source": [
    "# Create a processed_title column\n",
    "\n",
    "books[\"processed_description\"] = books[\"description\"].str.lower().apply(word_tokenize)"
   ]
  },
  {
   "cell_type": "code",
   "execution_count": 18,
   "metadata": {},
   "outputs": [],
   "source": [
    "# stopwords carry grammatical meaning but not semantic meaning\n",
    "\n",
    "# Remove all stopwords, all punctuation\n",
    "\n",
    "stops = stopwords.words(\"english\")\n",
    "stops.extend([\"since\", \"also\"])  # Words that should be in stops\n",
    "stops.extend([\"publishing\", \"sampler\", \"award\", \"editorial\", \"spotlight\",\n",
    "              \"debut\", \"publishers\", \"weekly\", \"anthology\", \"story\", \"author\",\n",
    "              \"series\", \"finalist\", \"edition\", \"best\", \"seller\", \"selling\", \"fiction\",\n",
    "              \"novel\", \"novella\", \"novelette\", \"title\", \"book\", \"winner\", \"winning\"])  # domain-specific stopwords\n",
    "\n",
    "def filter_tokens(tokens: list[str]) -> list[str]:\n",
    "\n",
    "    return [t for t in tokens\n",
    "            if t not in stops\n",
    "            and t.isalpha()\n",
    "            and len(t) > 2]\n",
    "\n",
    "books[\"processed_description\"] = books[\"processed_description\"].apply(filter_tokens)"
   ]
  },
  {
   "cell_type": "code",
   "execution_count": 19,
   "metadata": {},
   "outputs": [
    {
     "data": {
      "text/html": [
       "<div>\n",
       "<style scoped>\n",
       "    .dataframe tbody tr th:only-of-type {\n",
       "        vertical-align: middle;\n",
       "    }\n",
       "\n",
       "    .dataframe tbody tr th {\n",
       "        vertical-align: top;\n",
       "    }\n",
       "\n",
       "    .dataframe thead th {\n",
       "        text-align: right;\n",
       "    }\n",
       "</style>\n",
       "<table border=\"1\" class=\"dataframe\">\n",
       "  <thead>\n",
       "    <tr style=\"text-align: right;\">\n",
       "      <th></th>\n",
       "      <th>description</th>\n",
       "      <th>processed_description</th>\n",
       "    </tr>\n",
       "  </thead>\n",
       "  <tbody>\n",
       "    <tr>\n",
       "      <th>88</th>\n",
       "      <td>Finding Baba Yaga is a mythic yet timely novel-in-verse by the beloved and prolific  bestselling author and poet Jane Yolen, “the Hans Christian ...</td>\n",
       "      <td>[finding, baba, yaga, mythic, yet, timely, beloved, prolific, bestselling, poet, jane, yolen, hans, christian, andersen, america, newsweek, young,...</td>\n",
       "    </tr>\n",
       "    <tr>\n",
       "      <th>256</th>\n",
       "      <td>One of the best books of 2018, according to Kirkus Reviews, the Chicago Review of Books , and BookRiot.  finalist Malka Older's State Tectonics c...</td>\n",
       "      <td>[one, books, according, kirkus, reviews, chicago, review, books, bookriot, malka, older, state, tectonics, concludes, centenal, cycle, cyberpunk, ...</td>\n",
       "    </tr>\n",
       "    <tr>\n",
       "      <th>29</th>\n",
       "      <td>Rising science fiction and fantasy star P. Djèlí Clark brings an alternate New Orleans of orisha, airships, and adventure to life in his immersiv...</td>\n",
       "      <td>[rising, science, fantasy, star, djèlí, clark, brings, alternate, new, orleans, orisha, airships, adventure, life, immersive, black, god, drums, a...</td>\n",
       "    </tr>\n",
       "    <tr>\n",
       "      <th>110</th>\n",
       "      <td>The Sin du Jour crew caters to the Shadow Government in Greedy Pigs , Matt Wallace's fifth Sin du Jour Affair “I never did give them hell. I just...</td>\n",
       "      <td>[sin, jour, crew, caters, shadow, government, greedy, pigs, matt, wallace, fifth, sin, jour, affair, never, give, hell, told, truth, thought, poli...</td>\n",
       "    </tr>\n",
       "  </tbody>\n",
       "</table>\n",
       "</div>"
      ],
      "text/plain": [
       "                                                                                                                                               description  \\\n",
       "88    Finding Baba Yaga is a mythic yet timely novel-in-verse by the beloved and prolific  bestselling author and poet Jane Yolen, “the Hans Christian ...   \n",
       "256   One of the best books of 2018, according to Kirkus Reviews, the Chicago Review of Books , and BookRiot.  finalist Malka Older's State Tectonics c...   \n",
       "29    Rising science fiction and fantasy star P. Djèlí Clark brings an alternate New Orleans of orisha, airships, and adventure to life in his immersiv...   \n",
       "110   The Sin du Jour crew caters to the Shadow Government in Greedy Pigs , Matt Wallace's fifth Sin du Jour Affair “I never did give them hell. I just...   \n",
       "\n",
       "                                                                                                                                     processed_description  \n",
       "88   [finding, baba, yaga, mythic, yet, timely, beloved, prolific, bestselling, poet, jane, yolen, hans, christian, andersen, america, newsweek, young,...  \n",
       "256  [one, books, according, kirkus, reviews, chicago, review, books, bookriot, malka, older, state, tectonics, concludes, centenal, cycle, cyberpunk, ...  \n",
       "29   [rising, science, fantasy, star, djèlí, clark, brings, alternate, new, orleans, orisha, airships, adventure, life, immersive, black, god, drums, a...  \n",
       "110  [sin, jour, crew, caters, shadow, government, greedy, pigs, matt, wallace, fifth, sin, jour, affair, never, give, hell, told, truth, thought, poli...  "
      ]
     },
     "execution_count": 19,
     "metadata": {},
     "output_type": "execute_result"
    }
   ],
   "source": [
    "books[[\"description\", \"processed_description\"]].sample(4)"
   ]
  },
  {
   "cell_type": "markdown",
   "metadata": {},
   "source": [
    "## Most popular words"
   ]
  },
  {
   "cell_type": "code",
   "execution_count": 20,
   "metadata": {},
   "outputs": [],
   "source": [
    "# Select a subset of the data\n",
    "\n",
    "data = books[books[\"publication_date\"].dt.year == 2023]\n",
    "\n",
    "# Gather all of the tokens into one big list\n",
    "\n",
    "all_tokens = list(flatten(data[\"processed_description\"]))"
   ]
  },
  {
   "cell_type": "code",
   "execution_count": 21,
   "metadata": {},
   "outputs": [
    {
     "data": {
      "text/html": [
       "<div>\n",
       "<style scoped>\n",
       "    .dataframe tbody tr th:only-of-type {\n",
       "        vertical-align: middle;\n",
       "    }\n",
       "\n",
       "    .dataframe tbody tr th {\n",
       "        vertical-align: top;\n",
       "    }\n",
       "\n",
       "    .dataframe thead th {\n",
       "        text-align: right;\n",
       "    }\n",
       "</style>\n",
       "<table border=\"1\" class=\"dataframe\">\n",
       "  <thead>\n",
       "    <tr style=\"text-align: right;\">\n",
       "      <th></th>\n",
       "      <th>index</th>\n",
       "      <th>count</th>\n",
       "    </tr>\n",
       "  </thead>\n",
       "  <tbody>\n",
       "    <tr>\n",
       "      <th>0</th>\n",
       "      <td>world</td>\n",
       "      <td>26</td>\n",
       "    </tr>\n",
       "    <tr>\n",
       "      <th>1</th>\n",
       "      <td>city</td>\n",
       "      <td>25</td>\n",
       "    </tr>\n",
       "  </tbody>\n",
       "</table>\n",
       "</div>"
      ],
      "text/plain": [
       "   index  count\n",
       "0  world     26\n",
       "1   city     25"
      ]
     },
     "execution_count": 21,
     "metadata": {},
     "output_type": "execute_result"
    }
   ],
   "source": [
    "token_counts = pd.Series(all_tokens).value_counts().reset_index()\n",
    "token_counts.head(2)"
   ]
  },
  {
   "cell_type": "code",
   "execution_count": 22,
   "metadata": {},
   "outputs": [
    {
     "data": {
      "text/html": [
       "\n",
       "<style>\n",
       "  #altair-viz-b1037c21304f4a85a5ef232e3c66fa4e.vega-embed {\n",
       "    width: 100%;\n",
       "    display: flex;\n",
       "  }\n",
       "\n",
       "  #altair-viz-b1037c21304f4a85a5ef232e3c66fa4e.vega-embed details,\n",
       "  #altair-viz-b1037c21304f4a85a5ef232e3c66fa4e.vega-embed details summary {\n",
       "    position: relative;\n",
       "  }\n",
       "</style>\n",
       "<div id=\"altair-viz-b1037c21304f4a85a5ef232e3c66fa4e\"></div>\n",
       "<script type=\"text/javascript\">\n",
       "  var VEGA_DEBUG = (typeof VEGA_DEBUG == \"undefined\") ? {} : VEGA_DEBUG;\n",
       "  (function(spec, embedOpt){\n",
       "    let outputDiv = document.currentScript.previousElementSibling;\n",
       "    if (outputDiv.id !== \"altair-viz-b1037c21304f4a85a5ef232e3c66fa4e\") {\n",
       "      outputDiv = document.getElementById(\"altair-viz-b1037c21304f4a85a5ef232e3c66fa4e\");\n",
       "    }\n",
       "    const paths = {\n",
       "      \"vega\": \"https://cdn.jsdelivr.net/npm/vega@5?noext\",\n",
       "      \"vega-lib\": \"https://cdn.jsdelivr.net/npm/vega-lib?noext\",\n",
       "      \"vega-lite\": \"https://cdn.jsdelivr.net/npm/vega-lite@5.16.3?noext\",\n",
       "      \"vega-embed\": \"https://cdn.jsdelivr.net/npm/vega-embed@6?noext\",\n",
       "    };\n",
       "\n",
       "    function maybeLoadScript(lib, version) {\n",
       "      var key = `${lib.replace(\"-\", \"\")}_version`;\n",
       "      return (VEGA_DEBUG[key] == version) ?\n",
       "        Promise.resolve(paths[lib]) :\n",
       "        new Promise(function(resolve, reject) {\n",
       "          var s = document.createElement('script');\n",
       "          document.getElementsByTagName(\"head\")[0].appendChild(s);\n",
       "          s.async = true;\n",
       "          s.onload = () => {\n",
       "            VEGA_DEBUG[key] = version;\n",
       "            return resolve(paths[lib]);\n",
       "          };\n",
       "          s.onerror = () => reject(`Error loading script: ${paths[lib]}`);\n",
       "          s.src = paths[lib];\n",
       "        });\n",
       "    }\n",
       "\n",
       "    function showError(err) {\n",
       "      outputDiv.innerHTML = `<div class=\"error\" style=\"color:red;\">${err}</div>`;\n",
       "      throw err;\n",
       "    }\n",
       "\n",
       "    function displayChart(vegaEmbed) {\n",
       "      vegaEmbed(outputDiv, spec, embedOpt)\n",
       "        .catch(err => showError(`Javascript Error: ${err.message}<br>This usually means there's a typo in your chart specification. See the javascript console for the full traceback.`));\n",
       "    }\n",
       "\n",
       "    if(typeof define === \"function\" && define.amd) {\n",
       "      requirejs.config({paths});\n",
       "      require([\"vega-embed\"], displayChart, err => showError(`Error loading script: ${err.message}`));\n",
       "    } else {\n",
       "      maybeLoadScript(\"vega\", \"5\")\n",
       "        .then(() => maybeLoadScript(\"vega-lite\", \"5.16.3\"))\n",
       "        .then(() => maybeLoadScript(\"vega-embed\", \"6\"))\n",
       "        .catch(showError)\n",
       "        .then(() => displayChart(vegaEmbed));\n",
       "    }\n",
       "  })({\"config\": {\"view\": {\"continuousWidth\": 300, \"continuousHeight\": 300}}, \"data\": {\"name\": \"data-a89d4ca71b1948408b335ee92f27d604\"}, \"mark\": {\"type\": \"bar\", \"color\": \"green\"}, \"encoding\": {\"x\": {\"field\": \"index\", \"sort\": \"-y\", \"type\": \"nominal\"}, \"y\": {\"field\": \"count\", \"type\": \"quantitative\"}}, \"$schema\": \"https://vega.github.io/schema/vega-lite/v5.16.3.json\", \"datasets\": {\"data-a89d4ca71b1948408b335ee92f27d604\": [{\"index\": \"world\", \"count\": 26}, {\"index\": \"city\", \"count\": 25}, {\"index\": \"one\", \"count\": 20}, {\"index\": \"back\", \"count\": 17}, {\"index\": \"life\", \"count\": 15}, {\"index\": \"every\", \"count\": 12}, {\"index\": \"last\", \"count\": 11}, {\"index\": \"everything\", \"count\": 11}, {\"index\": \"without\", \"count\": 10}, {\"index\": \"three\", \"count\": 10}, {\"index\": \"find\", \"count\": 10}, {\"index\": \"time\", \"count\": 10}, {\"index\": \"request\", \"count\": 9}, {\"index\": \"applied\", \"count\": 9}, {\"index\": \"drm\", \"count\": 9}, {\"index\": \"sold\", \"count\": 9}, {\"index\": \"like\", \"count\": 9}, {\"index\": \"software\", \"count\": 9}, {\"index\": \"first\", \"count\": 9}, {\"index\": \"death\", \"count\": 9}]}}, {\"mode\": \"vega-lite\"});\n",
       "</script>"
      ],
      "text/plain": [
       "alt.Chart(...)"
      ]
     },
     "execution_count": 22,
     "metadata": {},
     "output_type": "execute_result"
    }
   ],
   "source": [
    "chart = alt.Chart(token_counts.head(20)).mark_bar(color=\"green\").encode(x=alt.X(\"index\").sort(\"-y\"), y=\"count\")\n",
    "chart"
   ]
  },
  {
   "cell_type": "code",
   "execution_count": 23,
   "metadata": {},
   "outputs": [],
   "source": [
    "chart.save(\"./output/top_twenty_words.png\")"
   ]
  }
 ],
 "metadata": {
  "kernelspec": {
   "display_name": "venv",
   "language": "python",
   "name": "python3"
  },
  "language_info": {
   "codemirror_mode": {
    "name": "ipython",
    "version": 3
   },
   "file_extension": ".py",
   "mimetype": "text/x-python",
   "name": "python",
   "nbconvert_exporter": "python",
   "pygments_lexer": "ipython3",
   "version": "3.11.6"
  }
 },
 "nbformat": 4,
 "nbformat_minor": 2
}
